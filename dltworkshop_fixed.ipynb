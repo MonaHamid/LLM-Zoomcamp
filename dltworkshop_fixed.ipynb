{
 "cells": [
  {
   "cell_type": "code",
   "execution_count": 3,
   "metadata": {
    "colab": {
     "base_uri": "https://localhost:8080/"
    },
    "id": "dNvmw5fHoqKP",
    "outputId": "caf9e8e7-2743-45f9-dab8-36ee89d30e03"
   },
   "outputs": [
    {
     "name": "stdout",
     "output_type": "stream",
     "text": [
      "\u001b[2K   \u001b[90m━━━━━━━━━━━━━━━━━━━━━━━━━━━━━━━━━━━━━━━━\u001b[0m \u001b[32m100.9/100.9 kB\u001b[0m \u001b[31m4.3 MB/s\u001b[0m eta \u001b[36m0:00:00\u001b[0m\n",
      "\u001b[2K   \u001b[90m━━━━━━━━━━━━━━━━━━━━━━━━━━━━━━━━━━━━━━━━\u001b[0m \u001b[32m353.7/353.7 kB\u001b[0m \u001b[31m13.4 MB/s\u001b[0m eta \u001b[36m0:00:00\u001b[0m\n",
      "\u001b[2K   \u001b[90m━━━━━━━━━━━━━━━━━━━━━━━━━━━━━━━━━━━━━━━━\u001b[0m \u001b[32m329.0/329.0 kB\u001b[0m \u001b[31m22.0 MB/s\u001b[0m eta \u001b[36m0:00:00\u001b[0m\n",
      "\u001b[2K   \u001b[90m━━━━━━━━━━━━━━━━━━━━━━━━━━━━━━━━━━━━━━━━\u001b[0m \u001b[32m975.3/975.3 kB\u001b[0m \u001b[31m36.3 MB/s\u001b[0m eta \u001b[36m0:00:00\u001b[0m\n",
      "\u001b[2K   \u001b[90m━━━━━━━━━━━━━━━━━━━━━━━━━━━━━━━━━━━━━━━━\u001b[0m \u001b[32m61.6/61.6 kB\u001b[0m \u001b[31m4.5 MB/s\u001b[0m eta \u001b[36m0:00:00\u001b[0m\n",
      "\u001b[2K   \u001b[90m━━━━━━━━━━━━━━━━━━━━━━━━━━━━━━━━━━━━━━━━\u001b[0m \u001b[32m101.6/101.6 kB\u001b[0m \u001b[31m8.6 MB/s\u001b[0m eta \u001b[36m0:00:00\u001b[0m\n",
      "\u001b[2K   \u001b[90m━━━━━━━━━━━━━━━━━━━━━━━━━━━━━━━━━━━━━━━━\u001b[0m \u001b[32m16.4/16.4 MB\u001b[0m \u001b[31m99.1 MB/s\u001b[0m eta \u001b[36m0:00:00\u001b[0m\n",
      "\u001b[2K   \u001b[90m━━━━━━━━━━━━━━━━━━━━━━━━━━━━━━━━━━━━━━━━\u001b[0m \u001b[32m324.8/324.8 kB\u001b[0m \u001b[31m20.9 MB/s\u001b[0m eta \u001b[36m0:00:00\u001b[0m\n",
      "\u001b[2K   \u001b[90m━━━━━━━━━━━━━━━━━━━━━━━━━━━━━━━━━━━━━━━━\u001b[0m \u001b[32m46.0/46.0 kB\u001b[0m \u001b[31m3.0 MB/s\u001b[0m eta \u001b[36m0:00:00\u001b[0m\n",
      "\u001b[2K   \u001b[90m━━━━━━━━━━━━━━━━━━━━━━━━━━━━━━━━━━━━━━━━\u001b[0m \u001b[32m86.8/86.8 kB\u001b[0m \u001b[31m6.4 MB/s\u001b[0m eta \u001b[36m0:00:00\u001b[0m\n",
      "\u001b[?25h"
     ]
    }
   ],
   "source": [
    "!pip install -q \"dlt[qdrant]\" \"qdrant-client[fastembed]\"\n"
   ]
  },
  {
   "cell_type": "code",
   "execution_count": 4,
   "metadata": {
    "colab": {
     "base_uri": "https://localhost:8080/"
    },
    "id": "HQDstPYsqGDC",
    "outputId": "aad61c55-ecc9-4145-a05d-89bc98b6af89"
   },
   "outputs": [
    {
     "name": "stdout",
     "output_type": "stream",
     "text": [
      "1.12.3\n"
     ]
    }
   ],
   "source": [
    "import dlt\n",
    "print(dlt.__version__)\n"
   ]
  },
  {
   "cell_type": "code",
   "execution_count": 5,
   "metadata": {
    "id": "AyRpbUvPq4Kn"
   },
   "outputs": [],
   "source": [
    "import requests\n",
    "import dlt\n",
    "\n",
    "@dlt.resource\n",
    "def zoomcamp_data():\n",
    "    docs_url = 'https://github.com/alexeygrigorev/llm-rag-workshop/raw/main/notebooks/documents.json'\n",
    "    docs_response = requests.get(docs_url)\n",
    "    documents_raw = docs_response.json()\n",
    "\n",
    "    for course in documents_raw:\n",
    "        course_name = course['course']\n",
    "\n",
    "        for doc in course['documents']:\n",
    "            doc['course'] = course_name\n",
    "            yield doc\n"
   ]
  },
  {
   "cell_type": "code",
   "execution_count": 6,
   "metadata": {
    "id": "Nk1aKv-DrOpZ"
   },
   "outputs": [],
   "source": [
    "from dlt.destinations import qdrant\n",
    "\n",
    "qdrant_destination = qdrant(qd_path=\"db.qdrant\")\n"
   ]
  },
  {
   "cell_type": "code",
   "execution_count": 7,
   "metadata": {
    "colab": {
     "base_uri": "https://localhost:8080/",
     "height": 758,
     "referenced_widgets": [
      "c25ae7a8450b49dcaad0feab445b450c",
      "f9c9e194eda24b3fa56e28636a76c002",
      "55f5f9d6873d448b857557767055d6dc",
      "2bcba4e343b24e669d1b911d1614822e",
      "7b1c7054e9b943e09511ba602c6cc15c",
      "e71e4f3ed9274a51a43366bb2f95562f",
      "48b8b34715574ab18056d199cc72764a",
      "311c49e3c88348858efa97b377c9d696",
      "129415a87d2d4547964a14dba5aa2332",
      "c56135085a604eb4b022900fb36b2a5e",
      "900bb3d093a94911a08aba526cafc9b8",
      "f2a1e88f08844f7aa453c57f947fdf83",
      "17e2ca7531c448a495bea39e0e549ba4",
      "79997af4fc9b471091fcc239a3b9120f",
      "9eabf24392824edcb9e39f29398dee4e",
      "5956a523d298416ca9808a6808ef0491",
      "08923d2432664bd78943152fd96838bf",
      "8be6476f438146ca8883802913f0616d",
      "396dbab9a7dc4d1e9a02b8aba95cdc32",
      "d96384dac523441e8290099e6b401d3a",
      "af55c6431a6844b2b7c29ec5181aac8c",
      "3d79b394918245e791dac79d63fce332",
      "737dc7038afe43dcb69a2836bc068bfd",
      "56133047c0c64e32ba8c1d7e2b67f2d8",
      "c42c04f08b9e4986bfe5fc0c9c4373ae",
      "e0864d011592474599176bd810448660",
      "1056f91864194b529e4ca828ddc331b6",
      "bf27f23cc2f24dfebd1937379826cc3a",
      "59013d39c5394111aceff55dc79af068",
      "b2864d26d45c4199b2a49e209c72611e",
      "1fe6110c2e1e45489b010d56fd2f54cf",
      "f7721be3a0f24eeabd15e829cdc6e60a",
      "078aeeb133d145e69d144708f23c1729",
      "aeeb8830de174e998ceb4617743fdcb5",
      "9eb1c886cab8456fb6a429ebf307f9ca",
      "16c425d3087945108315b85f69889342",
      "9ac524f4d701422a97d1b973f0f6c431",
      "c218b9e461c44dcc90cace88fb3df3b6",
      "f501fce4c6744ca295264e1b94e59ee9",
      "4d50363e20624a5ea40b54f0330fc6aa",
      "f98c9598a66d4375bb926e85f5ffb786",
      "96d615cbf1d642788b7cb7e924e8f3d6",
      "03036a661a144217a511ab4f0a95b1dc",
      "e8f03e23273d45e799d573992afddcb9",
      "1344f8b6ca864214bd3f05d03b8e892c",
      "39be9844677a4dffae905436ab600852",
      "17cfb651703c47c28a72f82edde3a40f",
      "1f892f46014a4d60b6fe138112475797",
      "7b62f42f1a934d66846ef8d84ae6f4f0",
      "0b8e2d8e361a428f863efeeecb85da09",
      "801c39df70174bc99826d5d7b6f6f347",
      "de64c2fa3ce1439d909348b1aac515b0",
      "b2b0b7821d9845c18cc4186ba70685fb",
      "623a5f6ccd56486fbe8dfda1e6267386",
      "7c6b079310d74d678bfedf9074a330c1",
      "2b6b24a4d2244e21818893fa9b8b9f37",
      "bf03a1bbc5ce4c5290dc34e88e4474c4",
      "49362f355b2d48449c402da517e334c3",
      "31cee66d5a3f42338ef998ceeebaefb7",
      "c4479770be1c400f9738ee6bd45e84a9",
      "214029339078495592b016323b87ea8f",
      "55342c70eaff421f908e417c2b565395",
      "19dd6a8aa348422789be865bd0cd2232",
      "459be8bb2b9d4717ae3c9f37fcbb6393",
      "2eef3b105081488f9c48d97b0c5a7624",
      "8fb411c2babd481cab9448a88e163b93"
     ]
    },
    "id": "12XGnbVIrRYn",
    "outputId": "d22109a5-e6bc-45d7-f4fb-7d4d7d98eec9"
   },
   "outputs": [
    {
     "name": "stderr",
     "output_type": "stream",
     "text": [
      "/usr/local/lib/python3.11/dist-packages/huggingface_hub/utils/_auth.py:94: UserWarning: \n",
      "The secret `HF_TOKEN` does not exist in your Colab secrets.\n",
      "To authenticate with the Hugging Face Hub, create a token in your settings tab (https://huggingface.co/settings/tokens), set it as secret in your Google Colab and restart your session.\n",
      "You will be able to reuse this secret in all of your notebooks.\n",
      "Please note that authentication is recommended but still optional to access public models or datasets.\n",
      "  warnings.warn(\n"
     ]
    },
    {
     "data": {
      "application/vnd.jupyter.widget-view+json": {
       "model_id": "c25ae7a8450b49dcaad0feab445b450c",
       "version_major": 2,
       "version_minor": 0
      },
      "text/plain": [
       "Fetching 5 files:   0%|          | 0/5 [00:00<?, ?it/s]"
      ]
     },
     "metadata": {},
     "output_type": "display_data"
    },
    {
     "data": {
      "application/vnd.jupyter.widget-view+json": {
       "model_id": "f2a1e88f08844f7aa453c57f947fdf83",
       "version_major": 2,
       "version_minor": 0
      },
      "text/plain": [
       "tokenizer.json: 0.00B [00:00, ?B/s]"
      ]
     },
     "metadata": {},
     "output_type": "display_data"
    },
    {
     "data": {
      "application/vnd.jupyter.widget-view+json": {
       "model_id": "737dc7038afe43dcb69a2836bc068bfd",
       "version_major": 2,
       "version_minor": 0
      },
      "text/plain": [
       "model_optimized.onnx:   0%|          | 0.00/133M [00:00<?, ?B/s]"
      ]
     },
     "metadata": {},
     "output_type": "display_data"
    },
    {
     "data": {
      "application/vnd.jupyter.widget-view+json": {
       "model_id": "aeeb8830de174e998ceb4617743fdcb5",
       "version_major": 2,
       "version_minor": 0
      },
      "text/plain": [
       "special_tokens_map.json:   0%|          | 0.00/125 [00:00<?, ?B/s]"
      ]
     },
     "metadata": {},
     "output_type": "display_data"
    },
    {
     "data": {
      "application/vnd.jupyter.widget-view+json": {
       "model_id": "1344f8b6ca864214bd3f05d03b8e892c",
       "version_major": 2,
       "version_minor": 0
      },
      "text/plain": [
       "tokenizer_config.json:   0%|          | 0.00/366 [00:00<?, ?B/s]"
      ]
     },
     "metadata": {},
     "output_type": "display_data"
    },
    {
     "data": {
      "application/vnd.jupyter.widget-view+json": {
       "model_id": "2b6b24a4d2244e21818893fa9b8b9f37",
       "version_major": 2,
       "version_minor": 0
      },
      "text/plain": [
       "config.json:   0%|          | 0.00/701 [00:00<?, ?B/s]"
      ]
     },
     "metadata": {},
     "output_type": "display_data"
    },
    {
     "name": "stdout",
     "output_type": "stream",
     "text": [
      "Run started at 2025-07-07 06:57:44.466082+00:00 and COMPLETED in 17.58 seconds with 4 steps.\n",
      "Step extract COMPLETED in 0.58 seconds.\n",
      "\n",
      "Load package 1751871468.9586277 is EXTRACTED and NOT YET LOADED to the destination and contains no failed jobs\n",
      "\n",
      "Step normalize COMPLETED in 0.17 seconds.\n",
      "Normalized data for the following tables:\n",
      "- zoomcamp_data: 948 row(s)\n",
      "- _dlt_pipeline_state: 1 row(s)\n",
      "\n",
      "Load package 1751871468.9586277 is NORMALIZED and NOT YET LOADED to the destination and contains no failed jobs\n",
      "\n",
      "Step load COMPLETED in 12.34 seconds.\n",
      "Pipeline zoomcamp_pipeline load step completed in 12.30 seconds\n",
      "1 load package(s) were loaded to destination qdrant and into dataset zoomcamp_tagged_data\n",
      "The qdrant destination used /content/db.qdrant location to store data\n",
      "Load package 1751871468.9586277 is LOADED and contains no failed jobs\n",
      "\n",
      "Step run COMPLETED in 17.58 seconds.\n",
      "Pipeline zoomcamp_pipeline load step completed in 12.30 seconds\n",
      "1 load package(s) were loaded to destination qdrant and into dataset zoomcamp_tagged_data\n",
      "The qdrant destination used /content/db.qdrant location to store data\n",
      "Load package 1751871468.9586277 is LOADED and contains no failed jobs\n"
     ]
    }
   ],
   "source": [
    "pipeline = dlt.pipeline(\n",
    "    pipeline_name=\"zoomcamp_pipeline\",\n",
    "    destination=qdrant_destination,\n",
    "    dataset_name=\"zoomcamp_tagged_data\"\n",
    ")\n",
    "\n",
    "load_info = pipeline.run(zoomcamp_data())\n",
    "print(pipeline.last_trace)\n"
   ]
  },
  {
   "cell_type": "code",
   "execution_count": 8,
   "metadata": {
    "colab": {
     "base_uri": "https://localhost:8080/"
    },
    "id": "WzQ8ealcrzus",
    "outputId": "c8e98e02-3e1a-41b7-b94d-aaf14529e768"
   },
   "outputs": [
    {
     "name": "stdout",
     "output_type": "stream",
     "text": [
      "{\"collections\": {\"zoomcamp_tagged_data\": {\"vectors\": {\"fast-bge-small-en\": {\"size\": 384, \"distance\": \"Cosine\", \"hnsw_config\": null, \"quantization_config\": null, \"on_disk\": null, \"datatype\": null, \"multivector_config\": null}}, \"shard_number\": null, \"sharding_method\": null, \"replication_factor\": null, \"write_consistency_factor\": null, \"on_disk_payload\": null, \"hnsw_config\": null, \"wal_config\": null, \"optimizers_config\": null, \"init_from\": null, \"quantization_config\": null, \"sparse_vectors\": null, \"strict_mode_config\": null}, \"zoomcamp_tagged_data__dlt_loads\": {\"vectors\": {\"fast-bge-small-en\": {\"size\": 384, \"distance\": \"Cosine\", \"hnsw_config\": null, \"quantization_config\": null, \"on_disk\": null, \"datatype\": null, \"multivector_config\": null}}, \"shard_number\": null, \"sharding_method\": null, \"replication_factor\": null, \"write_consistency_factor\": null, \"on_disk_payload\": null, \"hnsw_config\": null, \"wal_config\": null, \"optimizers_config\": null, \"init_from\": null, \"quantization_config\": null, \"sparse_vectors\": null, \"strict_mode_config\": null}, \"zoomcamp_tagged_data__dlt_pipeline_state\": {\"vectors\": {\"fast-bge-small-en\": {\"size\": 384, \"distance\": \"Cosine\", \"hnsw_config\": null, \"quantization_config\": null, \"on_disk\": null, \"datatype\": null, \"multivector_config\": null}}, \"shard_number\": null, \"sharding_method\": null, \"replication_factor\": null, \"write_consistency_factor\": null, \"on_disk_payload\": null, \"hnsw_config\": null, \"wal_config\": null, \"optimizers_config\": null, \"init_from\": null, \"quantization_config\": null, \"sparse_vectors\": null, \"strict_mode_config\": null}, \"zoomcamp_tagged_data_zoomcamp_data\": {\"vectors\": {\"fast-bge-small-en\": {\"size\": 384, \"distance\": \"Cosine\", \"hnsw_config\": null, \"quantization_config\": null, \"on_disk\": null, \"datatype\": null, \"multivector_config\": null}}, \"shard_number\": null, \"sharding_method\": null, \"replication_factor\": null, \"write_consistency_factor\": null, \"on_disk_payload\": null, \"hnsw_config\": null, \"wal_config\": null, \"optimizers_config\": null, \"init_from\": null, \"quantization_config\": null, \"sparse_vectors\": null, \"strict_mode_config\": null}, \"zoomcamp_tagged_data__dlt_version\": {\"vectors\": {\"fast-bge-small-en\": {\"size\": 384, \"distance\": \"Cosine\", \"hnsw_config\": null, \"quantization_config\": null, \"on_disk\": null, \"datatype\": null, \"multivector_config\": null}}, \"shard_number\": null, \"sharding_method\": null, \"replication_factor\": null, \"write_consistency_factor\": null, \"on_disk_payload\": null, \"hnsw_config\": null, \"wal_config\": null, \"optimizers_config\": null, \"init_from\": null, \"quantization_config\": null, \"sparse_vectors\": null, \"strict_mode_config\": null}}, \"aliases\": {}}"
     ]
    }
   ],
   "source": [
    "!cat db.qdrant/meta.json"
   ]
  }
 ],
 "metadata": {
  "colab": {
   "provenance": []
  },
  "kernelspec": {
   "display_name": "Python 3",
   "name": "python3"
  },
  "language_info": {
   "name": "python"
  }
 },
 "nbformat": 4,
 "nbformat_minor": 0
}
